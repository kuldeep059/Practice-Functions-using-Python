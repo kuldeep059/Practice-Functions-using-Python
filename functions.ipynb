{
 "cells": [
  {
   "cell_type": "code",
   "execution_count": 6,
   "metadata": {},
   "outputs": [
    {
     "name": "stdout",
     "output_type": "stream",
     "text": [
      "22 is even\n"
     ]
    }
   ],
   "source": [
    "## Even or Odd Function \n",
    "num = int(input(\"Enter the number\"))\n",
    "\n",
    "def even_or_odd(num):\n",
    "    if num%2==0:\n",
    "        print(num,\"is even\")\n",
    "    else:\n",
    "        print(num,\"is odd\")\n",
    " \n",
    "even_or_odd(num)"
   ]
  },
  {
   "cell_type": "code",
   "execution_count": 7,
   "metadata": {},
   "outputs": [
    {
     "name": "stdout",
     "output_type": "stream",
     "text": [
      "23 is odd\n"
     ]
    }
   ],
   "source": [
    "##Calling Function\n",
    "even_or_odd(23)"
   ]
  },
  {
   "cell_type": "code",
   "execution_count": 8,
   "metadata": {},
   "outputs": [],
   "source": [
    "##Function with Multiple Params\n",
    "\n",
    "def add(a,b):\n",
    "    return a+b"
   ]
  },
  {
   "cell_type": "code",
   "execution_count": 10,
   "metadata": {},
   "outputs": [
    {
     "data": {
      "text/plain": [
       "5"
      ]
     },
     "execution_count": 10,
     "metadata": {},
     "output_type": "execute_result"
    }
   ],
   "source": [
    "add(2,3)"
   ]
  },
  {
   "cell_type": "markdown",
   "metadata": {},
   "source": [
    "FUNCTION EXAMPLES"
   ]
  },
  {
   "cell_type": "code",
   "execution_count": 14,
   "metadata": {},
   "outputs": [
    {
     "name": "stdout",
     "output_type": "stream",
     "text": [
      "89.6\n",
      "23.88888888888889\n"
     ]
    }
   ],
   "source": [
    "## Temperature Conversion \n",
    "\n",
    "def convert_temp(temp,unit):\n",
    "    if unit ==\"C\":\n",
    "        return temp*9/5+32\n",
    "    elif unit == \"F\":\n",
    "        return (temp-32)*5/9\n",
    "    else:\n",
    "        return None\n",
    "    \n",
    "print(convert_temp(32,'C'))\n",
    "print(convert_temp(75,'F'))"
   ]
  },
  {
   "cell_type": "code",
   "execution_count": 19,
   "metadata": {},
   "outputs": [
    {
     "name": "stdout",
     "output_type": "stream",
     "text": [
      "True\n",
      "True\n",
      "False\n"
     ]
    }
   ],
   "source": [
    "## Password Strenght Checker\n",
    "\n",
    "def password_checker(password):\n",
    "    if len(password)<8:\n",
    "        return False\n",
    "    if not any(char.isdigit() for char in password):\n",
    "        return False\n",
    "    if not any(char.islower() for char in password):\n",
    "        return False\n",
    "    if not any(char.isupper() for char in password):\n",
    "        return False\n",
    "    if not any(char in '!@#$%^&*_()' for char in password):\n",
    "        return False\n",
    "    return True\n",
    "\n",
    "print(password_checker(\"Honey@123\"))\n",
    "print(password_checker(\"Honeygs@$%_1\"))\n",
    "print(password_checker(\"Honey\"))\n"
   ]
  },
  {
   "cell_type": "code",
   "execution_count": 25,
   "metadata": {},
   "outputs": [
    {
     "name": "stdout",
     "output_type": "stream",
     "text": [
      "190\n"
     ]
    }
   ],
   "source": [
    "## Calculate total cost of Items in Shopping cart\n",
    "\n",
    "def total_cart_cost(cart):\n",
    "    total_cost=0\n",
    "    for items in cart:\n",
    "        total_cost += items['price']*items['quantity']\n",
    "    \n",
    "    return total_cost\n",
    "\n",
    "\n",
    "##Few Items Dictionaries\n",
    "\n",
    "cart=[\n",
    "    {'name':'Egg','price':10,'quantity':5},\n",
    "    {'name':'Chips','price':20,'quantity':2},\n",
    "    {'name':'Coca Cola','price':100,'quantity':1},\n",
    "]\n",
    "\n",
    "total_cost=total_cart_cost(cart)\n",
    "print(total_cost)"
   ]
  },
  {
   "cell_type": "code",
   "execution_count": 26,
   "metadata": {},
   "outputs": [
    {
     "name": "stdout",
     "output_type": "stream",
     "text": [
      "False\n",
      "True\n"
     ]
    }
   ],
   "source": [
    "## Check if string is Palindrome or Not\n",
    "\n",
    "def is_palindrome(s):\n",
    "    s=s.lower().replace(\" \",\"\")\n",
    "    return s==s[::-1]\n",
    "\n",
    "print(is_palindrome(\"Hello\"))\n",
    "print(is_palindrome(\"Teet\"))\n",
    "    "
   ]
  },
  {
   "cell_type": "code",
   "execution_count": 27,
   "metadata": {},
   "outputs": [
    {
     "name": "stdout",
     "output_type": "stream",
     "text": [
      "120\n"
     ]
    }
   ],
   "source": [
    "## Calculate the factorials of a number using recursion\n",
    "\n",
    "def factorial(n):\n",
    "    if n==0:\n",
    "        return 1\n",
    "    else:\n",
    "        return n*factorial(n-1)\n",
    "    \n",
    "print (factorial(5))"
   ]
  },
  {
   "cell_type": "code",
   "execution_count": 35,
   "metadata": {},
   "outputs": [
    {
     "name": "stdout",
     "output_type": "stream",
     "text": [
      "{'innovation': 1, 'drives': 1, 'the': 1, 'world': 1, 'ahead': 1, 'with': 1, 'bold': 1, 'ideas': 1, 'and': 2, 'paths': 1, 'we': 1, 'tread.': 1, 'through': 1, 'every': 1, 'challenge': 1, 'rise': 1, 'grow': 1, 'success': 1, 'will': 1, 'follow': 1, 'those': 1, 'who': 1, 'know': 2, '.': 1}\n"
     ]
    }
   ],
   "source": [
    "## A function to read a file and count the frequency of each word\n",
    "\n",
    "def count_word_frequency(file_path):\n",
    "    word_count={}\n",
    "    with open(file_path,'r') as file:\n",
    "        for line in file:\n",
    "            words=line.split()\n",
    "            for word in words:\n",
    "                word=word.lower().strip('+,/,*,-,?,!,#')\n",
    "                word_count[word]=word_count.get(word,0)+1\n",
    "    \n",
    "    return word_count\n",
    "\n",
    "file_path=\"sample.txt\"\n",
    "word_frequency=count_word_frequency(file_path)\n",
    "print(word_frequency)\n",
    "\n",
    "\n"
   ]
  }
 ],
 "metadata": {
  "kernelspec": {
   "display_name": "Python 3",
   "language": "python",
   "name": "python3"
  },
  "language_info": {
   "codemirror_mode": {
    "name": "ipython",
    "version": 3
   },
   "file_extension": ".py",
   "mimetype": "text/x-python",
   "name": "python",
   "nbconvert_exporter": "python",
   "pygments_lexer": "ipython3",
   "version": "3.12.0"
  }
 },
 "nbformat": 4,
 "nbformat_minor": 2
}
